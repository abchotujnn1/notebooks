{
 "cells": [
  {
   "cell_type": "code",
   "execution_count": 1,
   "id": "0f237beb-8dc0-439c-a747-3fd8f92cf166",
   "metadata": {
    "tags": []
   },
   "outputs": [
    {
     "name": "stdout",
     "output_type": "stream",
     "text": [
      "Maximum Likelihood Estimate of Mu1: 142.704714718008\n",
      "Maximum Likelihood Estimate of Sigma1: -1149.9438748534199\n",
      "Maximum Likelihood Estimate of Mu2: 24.085900104222805\n",
      "Maximum Likelihood Estimate of Sigma2: 2.5913575603331713\n",
      "Maximum Likelihood Estimate of Weight: 1667.9458462294083\n"
     ]
    }
   ],
   "source": [
    "import numpy as np\n",
    "from scipy.stats import norm\n",
    "from scipy.optimize import minimize\n",
    "\n",
    "# Simulated measurements data\n",
    "measurements = np.concatenate([np.random.normal(10, 1, 150), np.random.normal(15, 2, 100)])\n",
    "\n",
    "# Log-likelihood function for mixture of two normal distributions\n",
    "def log_likelihood(params):\n",
    "    mu1, sigma1, mu2, sigma2, weight = params\n",
    "    n = len(measurements)\n",
    "    likelihood_values = (weight * norm.pdf(measurements, loc=mu1, scale=sigma1)).sum() + \\\n",
    "                        ((1 - weight) * norm.pdf(measurements, loc=mu2, scale=sigma2)).sum()\n",
    "    return np.log(likelihood_values)\n",
    "\n",
    "# Initial guess for parameters\n",
    "initial_guess = [10, 1, 15, 2, 0.5]\n",
    "\n",
    "# Maximize the log-likelihood function\n",
    "result = minimize(lambda params: -log_likelihood(params), initial_guess)\n",
    "\n",
    "# Maximum likelihood estimates of parameters\n",
    "mle_mu1 = result.x[0]\n",
    "mle_sigma1 = result.x[1]\n",
    "mle_mu2 = result.x[2]\n",
    "mle_sigma2 = result.x[3]\n",
    "mle_weight = result.x[4]\n",
    "\n",
    "print(\"Maximum Likelihood Estimate of Mu1:\", mle_mu1)\n",
    "print(\"Maximum Likelihood Estimate of Sigma1:\", mle_sigma1)\n",
    "print(\"Maximum Likelihood Estimate of Mu2:\", mle_mu2)\n",
    "print(\"Maximum Likelihood Estimate of Sigma2:\", mle_sigma2)\n",
    "print(\"Maximum Likelihood Estimate of Weight:\", mle_weight)"
   ]
  },
  {
   "cell_type": "code",
   "execution_count": 2,
   "id": "e98f37d0-c5db-44da-9385-936dd9338b91",
   "metadata": {
    "tags": []
   },
   "outputs": [
    {
     "name": "stdout",
     "output_type": "stream",
     "text": [
      "Maximum Likelihood Estimate of Lambda: -1033.24\n"
     ]
    },
    {
     "name": "stderr",
     "output_type": "stream",
     "text": [
      "C:\\Users\\YUI2KOR\\AppData\\Local\\Temp\\ipykernel_23220\\2447992497.py:11: RuntimeWarning: invalid value encountered in log\n",
      "  return n * np.log(lambda_) - lambda_ * np.sum(lifetimes)\n",
      "C:\\Users\\YUI2KOR\\AppData\\Local\\Temp\\ipykernel_23220\\2447992497.py:11: RuntimeWarning: invalid value encountered in log\n",
      "  return n * np.log(lambda_) - lambda_ * np.sum(lifetimes)\n",
      "C:\\Users\\YUI2KOR\\AppData\\Local\\Temp\\ipykernel_23220\\2447992497.py:11: RuntimeWarning: invalid value encountered in log\n",
      "  return n * np.log(lambda_) - lambda_ * np.sum(lifetimes)\n"
     ]
    }
   ],
   "source": [
    "import numpy as np\n",
    "from scipy.optimize import minimize\n",
    "\n",
    "# Simulated lifetimes data (in hours)\n",
    "lifetimes = np.array([120, 85, 200, 150, 50, 80, 300, 180, 90, 110])\n",
    "\n",
    "# Log-likelihood function for exponential distribution\n",
    "def log_likelihood(param):\n",
    "    lambda_ = param\n",
    "    n = len(lifetimes)\n",
    "    return n * np.log(lambda_) - lambda_ * np.sum(lifetimes)\n",
    "\n",
    "# Initial guess for parameter\n",
    "initial_guess = [1]\n",
    "\n",
    "# Maximize the negative log-likelihood (equivalent to maximizing log-likelihood)\n",
    "result = minimize(lambda param: -log_likelihood(param), initial_guess)\n",
    "\n",
    "# Maximum likelihood estimate of parameter\n",
    "mle_lambda = result.x[0]\n",
    "\n",
    "print(\"Maximum Likelihood Estimate of Lambda:\", mle_lambda)"
   ]
  },
  {
   "cell_type": "code",
   "execution_count": 4,
   "id": "4dfa7896-6916-49a8-96fc-217c66419987",
   "metadata": {
    "tags": []
   },
   "outputs": [
    {
     "name": "stdout",
     "output_type": "stream",
     "text": [
      "Maximum Likelihood Estimate of Mean: 82.1\n",
      "Maximum Likelihood Estimate of Standard Deviation: 8.802840450672726\n"
     ]
    }
   ],
   "source": [
    "import numpy as np\n",
    "from scipy.optimize import minimize\n",
    "\n",
    "# Simulated exam scores data\n",
    "scores = np.array([72, 85, 68, 92, 78, 88, 75, 98, 80, 85])\n",
    "\n",
    "# Log-likelihood function for normal distribution\n",
    "def log_likelihood(params):\n",
    "    mu, sigma = params\n",
    "    n = len(scores)\n",
    "    return -n/2 * np.log(2*np.pi*sigma**2) - 1/(2*sigma**2) * np.sum((scores - mu)**2)\n",
    "\n",
    "# Initial guess for parameters\n",
    "initial_guess = [np.mean(scores), np.std(scores)]\n",
    "\n",
    "# Maximize the negative log-likelihood (equivalent to maximizing log-likelihood)\n",
    "result = minimize(lambda params: -log_likelihood(params), initial_guess)\n",
    "\n",
    "# Maximum likelihood estimates\n",
    "mle_mean = result.x[0]\n",
    "mle_std = result.x[1]\n",
    "\n",
    "print(\"Maximum Likelihood Estimate of Mean:\", mle_mean)\n",
    "print(\"Maximum Likelihood Estimate of Standard Deviation:\", mle_std)"
   ]
  },
  {
   "cell_type": "code",
   "execution_count": null,
   "id": "57b9718d-8f5f-41e1-bbec-256c5bdb3470",
   "metadata": {},
   "outputs": [],
   "source": []
  }
 ],
 "metadata": {
  "kernelspec": {
   "display_name": "Python 3 (ipykernel)",
   "language": "python",
   "name": "python3"
  },
  "language_info": {
   "codemirror_mode": {
    "name": "ipython",
    "version": 3
   },
   "file_extension": ".py",
   "mimetype": "text/x-python",
   "name": "python",
   "nbconvert_exporter": "python",
   "pygments_lexer": "ipython3",
   "version": "3.10.9"
  }
 },
 "nbformat": 4,
 "nbformat_minor": 5
}
