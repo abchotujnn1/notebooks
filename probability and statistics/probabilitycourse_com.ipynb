{
 "cells": [
  {
   "cell_type": "markdown",
   "id": "e2dd8c82-98f3-4055-a12d-2280a3a60452",
   "metadata": {},
   "source": [
    "* source: https://www.probabilitycourse.com/chapter3/3_1_5_special_discrete_distr.php"
   ]
  },
  {
   "cell_type": "markdown",
   "id": "059b4eb3-baa6-4725-8e4c-368cea15bb23",
   "metadata": {
    "jp-MarkdownHeadingCollapsed": true
   },
   "source": [
    "## chapter 3.1.\n",
    "* **bold text**"
   ]
  },
  {
   "cell_type": "markdown",
   "id": "21ee86fc-b86a-4ba5-8d66-a50240e669aa",
   "metadata": {},
   "source": [
    "Q1: Let X∼Binomial(n,p) and Y∼Binomial(m,p) be two independent random variables. Define a new random variable as Z=X+Y. Find the PMF of Z.\n",
    "Q1.2: what will be the PMF of Z if p1 != p2"
   ]
  },
  {
   "cell_type": "markdown",
   "id": "b963c802-0521-412a-808a-385ebb5013a3",
   "metadata": {},
   "source": [
    "$$\n",
    "  \\int_0^\\infty \\frac{x^3}{e^x-1}\\,dx = \\frac{\\pi^4}{15}\n",
    "$$"
   ]
  },
  {
   "cell_type": "markdown",
   "id": "8de050dc-7b64-4afb-ad81-9df9eca9faaa",
   "metadata": {},
   "source": [
    "$$Let X\n",
    " be a discrete random variable with the following PMF\n",
    "PX(x)=⎧0.10.20.20.30.20for x=0.2for x=0.4for x=0.5for x=0.8for x=1otherwise$$"
   ]
  },
  {
   "cell_type": "code",
   "execution_count": 2,
   "id": "bba8146a-eae6-4bb6-a7db-d99abfa89eb8",
   "metadata": {},
   "outputs": [],
   "source": [
    "# https://golopot.github.io/tex-to-unicode/"
   ]
  },
  {
   "cell_type": "code",
   "execution_count": null,
   "id": "411197b2-fc5e-4b60-bd5a-6eb4f06ead1f",
   "metadata": {},
   "outputs": [],
   "source": []
  }
 ],
 "metadata": {
  "kernelspec": {
   "display_name": "Python 3 (ipykernel)",
   "language": "python",
   "name": "python3"
  },
  "language_info": {
   "codemirror_mode": {
    "name": "ipython",
    "version": 3
   },
   "file_extension": ".py",
   "mimetype": "text/x-python",
   "name": "python",
   "nbconvert_exporter": "python",
   "pygments_lexer": "ipython3",
   "version": "3.10.9"
  }
 },
 "nbformat": 4,
 "nbformat_minor": 5
}
