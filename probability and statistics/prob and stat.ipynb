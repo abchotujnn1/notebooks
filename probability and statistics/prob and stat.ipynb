{
 "cells": [
  {
   "cell_type": "markdown",
   "id": "ad284852-69b9-4db2-bac7-a1154d7a338a",
   "metadata": {},
   "source": [
    "#### book: \n",
    "* book: file:///C:/Users/YUI2KOR/BOSCH/Paper/book/probability/introduction_to_probability_bertsekas_2nd_2008.pdf\n",
    "* solution: file:///C:/Users/YUI2KOR/BOSCH/Paper/book/probability/Introduction%20to%20Probability%20solution%20prob-solved_2ndedition.pdf"
   ]
  },
  {
   "cell_type": "code",
   "execution_count": null,
   "id": "d927d4c7-c96e-4b0d-8f9b-dd964ea8ae85",
   "metadata": {},
   "outputs": [],
   "source": []
  }
 ],
 "metadata": {
  "kernelspec": {
   "display_name": "Python 3 (ipykernel)",
   "language": "python",
   "name": "python3"
  },
  "language_info": {
   "codemirror_mode": {
    "name": "ipython",
    "version": 3
   },
   "file_extension": ".py",
   "mimetype": "text/x-python",
   "name": "python",
   "nbconvert_exporter": "python",
   "pygments_lexer": "ipython3",
   "version": "3.10.9"
  }
 },
 "nbformat": 4,
 "nbformat_minor": 5
}
