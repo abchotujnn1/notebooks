{
 "cells": [
  {
   "cell_type": "code",
   "execution_count": 61,
   "id": "ea3b23b1-a320-48e9-bdc5-03485d488415",
   "metadata": {},
   "outputs": [],
   "source": [
    "import os\n",
    "import numpy as np\n",
    "import torch\n",
    "from torch import optim, nn, utils, Tensor\n",
    "from torchvision .datasets import MNIST\n",
    "from torchvision.transforms import ToTensor\n",
    "import lightning as L\n",
    "from lightning import LightningModule"
   ]
  },
  {
   "cell_type": "code",
   "execution_count": null,
   "id": "e177b417-f5df-41b9-8e86-aa1e7fd713f1",
   "metadata": {},
   "outputs": [],
   "source": []
  },
  {
   "cell_type": "code",
   "execution_count": 62,
   "id": "2208e8ed-dda2-4428-b440-ceddf512734e",
   "metadata": {},
   "outputs": [],
   "source": [
    "class SimpleModel(LightningModule):\n",
    "    def __init__(self):\n",
    "        super().__init__()\n",
    "        self.l1 = nn.Linear(in_features=64, out_features=4)\n",
    "    def forward(self, x):\n",
    "        return torch.relu(self.l1(x.view(x.size(0), -1)))\n",
    "\n"
   ]
  },
  {
   "cell_type": "code",
   "execution_count": 63,
   "id": "8bc20524-b593-4a7a-a144-a414d8e12b31",
   "metadata": {},
   "outputs": [
    {
     "data": {
      "text/plain": [
       "SimpleModel(\n",
       "  (l1): Linear(in_features=64, out_features=4, bias=True)\n",
       ")"
      ]
     },
     "execution_count": 63,
     "metadata": {},
     "output_type": "execute_result"
    }
   ],
   "source": [
    "model = SimpleModel()\n",
    "model"
   ]
  },
  {
   "cell_type": "code",
   "execution_count": 64,
   "id": "91493430-0278-407e-a63f-27bf1f05b4df",
   "metadata": {},
   "outputs": [],
   "source": [
    "filepath = \"model.onnx\"\n",
    "input_sample = torch.randn((1, 64))\n",
    "model.to_onnx(filepath, input_sample, export_params=True)"
   ]
  },
  {
   "cell_type": "code",
   "execution_count": 65,
   "id": "a43fbf88-b0e5-446f-94ee-87df23197672",
   "metadata": {},
   "outputs": [
    {
     "data": {
      "text/plain": [
       "SimpleModel(\n",
       "  (l1): Linear(in_features=64, out_features=4, bias=True)\n",
       ")"
      ]
     },
     "execution_count": 65,
     "metadata": {},
     "output_type": "execute_result"
    }
   ],
   "source": [
    "model"
   ]
  },
  {
   "cell_type": "code",
   "execution_count": 66,
   "id": "06d7b7bd-ea40-4a0b-8cbe-32fae2955929",
   "metadata": {},
   "outputs": [],
   "source": [
    "#specifying the example_input_array inside the model.\n",
    "class SimpleModel(LightningModule):\n",
    "    def __init__(self,):\n",
    "        super().__init__()\n",
    "        self.l1 = nn.Linear(in_features=64, out_features=4)\n",
    "        self.example_input_array = torch.randn(7, 64)\n",
    "    def forward(self, x):\n",
    "        return torch.relu(self.l1(x.view(x.size(0) , -1)))\n",
    "\n"
   ]
  },
  {
   "cell_type": "code",
   "execution_count": 34,
   "id": "aca4a9ae-d340-40a0-9f76-c45a1132b1f0",
   "metadata": {},
   "outputs": [],
   "source": [
    "# model = SimpleModel()\n",
    "# filepath = \"model_.onnx\"\n",
    "# model.to_onnx(filepath, export_params=True)"
   ]
  },
  {
   "cell_type": "code",
   "execution_count": 72,
   "id": "9186b0e0-851c-4ea6-844f-c847c8de9fcf",
   "metadata": {},
   "outputs": [
    {
     "name": "stdout",
     "output_type": "stream",
     "text": [
      "Input name: onnx::Reshape_0\n",
      "Input shape: [1, 64]\n",
      "Input type: tensor(float)\n"
     ]
    }
   ],
   "source": [
    "\n",
    "import onnxruntime\n"
   ]
  },
  {
   "cell_type": "code",
   "execution_count": 74,
   "id": "ba7d0403-1a63-4e41-8c80-d2d45527f182",
   "metadata": {},
   "outputs": [
    {
     "name": "stdout",
     "output_type": "stream",
     "text": [
      "Model output: [array([[0.        , 0.55216247, 0.        , 0.        ]], dtype=float32)]\n"
     ]
    }
   ],
   "source": [
    "ort_session = onnxruntime.InferenceSession(filepath)print(f\"Input type: {input_type}\")\n",
    "# Get model input details\n",
    "input_name = ort_session.get_inputs()[0].name\n",
    "input_shape = ort_session.get_inputs()[0].shape\n",
    "input_type = ort_session.get_inputs()[0].type\n",
    "\n",
    "print(f\"Input name: {input_name}\")\n",
    "print(f\"Input shape: {input_shape}\")\n",
    "\n",
    "# Generate dummy input data with the correct shape and type\n",
    "dummy_input = np.random.randn(*input_shape).astype(np.float32)  # Ensure the data type matches the model input type\n",
    "\n",
    "# Run the model\n",
    "ort_inputs = {input_name: dummy_input}\n",
    "ort_outs = ort_session.run(None, ort_inputs)\n",
    "\n",
    "print(\"Model output:\", ort_outs)"
   ]
  },
  {
   "cell_type": "markdown",
   "id": "a9825fe4-9f83-4c14-b15e-7d3519da63de",
   "metadata": {},
   "source": [
    "### Validate a modle is servable"
   ]
  },
  {
   "cell_type": "code",
   "execution_count": null,
   "id": "95bfd2fc-9b96-439e-8c73-6b3c6a31cb86",
   "metadata": {},
   "outputs": [],
   "source": []
  }
 ],
 "metadata": {
  "kernelspec": {
   "display_name": "Python 3 (ipykernel)",
   "language": "python",
   "name": "python3"
  },
  "language_info": {
   "codemirror_mode": {
    "name": "ipython",
    "version": 3
   },
   "file_extension": ".py",
   "mimetype": "text/x-python",
   "name": "python",
   "nbconvert_exporter": "python",
   "pygments_lexer": "ipython3",
   "version": "3.10.9"
  }
 },
 "nbformat": 4,
 "nbformat_minor": 5
}
