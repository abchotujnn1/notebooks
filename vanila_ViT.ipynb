{
 "cells": [
  {
   "cell_type": "markdown",
   "id": "f2d90061-3aaf-4d16-be59-6d1f3fda8846",
   "metadata": {},
   "source": [
    "#### patch embedding\n",
    "#### positional encoding\n",
    "#### Transformer encoder model\n",
    "#### Vision Transformer model(ViT)"
   ]
  },
  {
   "cell_type": "code",
   "execution_count": 106,
   "id": "82d663ad-3ae2-4c0d-8ac4-56a9b4ece521",
   "metadata": {},
   "outputs": [],
   "source": [
    "## Import Libraries\n",
    "import math\n",
    "import torch\n",
    "import torch.nn as nn\n",
    "import torch.optim as optim\n",
    "import torch.nn.functional as F\n",
    "from torchvision import datasets, transforms\n",
    "from torch.utils.data import DataLoader"
   ]
  },
  {
   "cell_type": "code",
   "execution_count": 107,
   "id": "85b65ce0-33e4-4277-8cd3-d973b9adf241",
   "metadata": {},
   "outputs": [],
   "source": [
    "## Patch Embedding\n",
    "class PatchEmbedding(nn.Module):\n",
    "    def __init__(self, img_size=224, patch_size=16, in_channels=3, embed_dim=768):\n",
    "        super(PatchEmbedding, self).__init__()\n",
    "        self.patch_size=patch_size\n",
    "        self.proj = nn.Conv2d(in_channels, embed_dim, kernel_size=patch_size, stride=patch_size)\n",
    "\n",
    "    def forward(self, x):\n",
    "        x = self.proj(x) # 1x768x14x14\n",
    "        x = x.flatten(2)\n",
    "        x = x.transpose(1, 2)\n",
    "        return x"
   ]
  },
  {
   "cell_type": "code",
   "execution_count": 108,
   "id": "e1f1bf84-1a3f-4318-91b3-8794f66c843b",
   "metadata": {},
   "outputs": [
    {
     "name": "stdout",
     "output_type": "stream",
     "text": [
      "torch.Size([1, 3, 224, 224])\n",
      "torch.Size([1, 196, 768])\n"
     ]
    }
   ],
   "source": [
    "## Example of Patch Embedding\n",
    "tensor = torch.rand(1, 3, 224, 224)\n",
    "print(tensor.shape)\n",
    "patch_embed_obj = PatchEmbedding()\n",
    "patch_embed = patch_embed_obj(tensor)\n",
    "print(patch_embed.shape)"
   ]
  },
  {
   "cell_type": "code",
   "execution_count": 109,
   "id": "de1a5add-4870-482f-8e8a-806173cbbcef",
   "metadata": {},
   "outputs": [],
   "source": [
    "## Positional Encoding\n",
    "class PositionalEncoding(nn.Module):\n",
    "    def __init__(self, embed_dim, max_len=5000):\n",
    "        super(PositionalEncoding, self).__init__()\n",
    "        pe = torch.zeros(max_len, embed_dim) # positional encoding 5000 x embed_dim --> embed_dim=768 form PatchEmbedding\n",
    "        position = torch.arange(0, max_len, dtype=torch.float).unsqueeze(1) # max_len x 1\n",
    "        div_term = torch.exp(torch.arange(0, embed_dim, 2).float() * (-math.log(10000.0) / embed_dim))\n",
    "        pe[:, 0::2] = torch.sin(position * div_term)\n",
    "        pe[:, 1::2] = torch.cos(position * div_term)\n",
    "        pe = pe.unsqueeze(0) # 1 x 5000 x 768\n",
    "        self.register_buffer('pe', pe)\n",
    "    def forward(self, x):\n",
    "        x  = x + self.pe[:, :x.size(1), :]\n",
    "        return x\n",
    "        "
   ]
  },
  {
   "cell_type": "code",
   "execution_count": 110,
   "id": "32ae3522-c877-48a3-ae45-1f6d90eab163",
   "metadata": {},
   "outputs": [
    {
     "name": "stdout",
     "output_type": "stream",
     "text": [
      "torch.Size([1, 196, 768])\n"
     ]
    }
   ],
   "source": [
    "posn_encoding_obj = PositionalEncoding(embed_dim=768)\n",
    "posn_encoding = posn_encoding_obj(patch_embed)\n",
    "print(posn_encoding.shape)"
   ]
  },
  {
   "cell_type": "code",
   "execution_count": 111,
   "id": "2ca841bf-6063-4544-a0ed-db58d39f6342",
   "metadata": {},
   "outputs": [],
   "source": [
    "## Transformer Encoder\n",
    "class TransformerEncoderLayer(nn.Module):\n",
    "    def __init__(self, embed_dim, num_heads, hidden_dim, dropout=0.1):\n",
    "        super(TransformerEncoderLayer, self).__init__()\n",
    "        self.self_attn = nn.MultiheadAttention(embed_dim, num_heads, dropout=dropout)\n",
    "        self.linear1 = nn.Linear(embed_dim, hidden_dim)\n",
    "        self.dropout = nn.Dropout(dropout)\n",
    "        self.linear2 = nn.Linear(hidden_dim, embed_dim)\n",
    "        self.norm1 = nn.LayerNorm(embed_dim)\n",
    "        self.norm2 = nn.LayerNorm(embed_dim)\n",
    "        self.dropout1 = nn.Dropout(dropout)\n",
    "        self.dropout2 = nn.Dropout(dropout)\n",
    "\n",
    "    def forward(self, x):\n",
    "        x2 = self.self_attn(x, x, x)[0]\n",
    "        x = x + self.dropout(x2)\n",
    "        x = self.norm1(x)\n",
    "        x = self.linear1(x)\n",
    "        x = F.relu(x)\n",
    "        x = self.dropout1(x)\n",
    "        x = self.linear2(x)\n",
    "        x = x + self.dropout2(x)\n",
    "        x = self.norm2(x)\n",
    "        return x\n"
   ]
  },
  {
   "cell_type": "code",
   "execution_count": 112,
   "id": "8ffb4b36-e6e5-4046-84ac-18977ce5ff53",
   "metadata": {},
   "outputs": [],
   "source": [
    "## Vision Transformer(ViT) model\n",
    "class VisionTransformer(nn.Module):\n",
    "    def __init__(self, img_size=224, patch_size=16, in_channels=3, num_classes=10, \n",
    "                 embed_dim=768, num_heads=8, hidden_dim=2048, num_layers=12, dropout=0.1):\n",
    "        super(VisionTransformer, self).__init__()\n",
    "        self.patch_embed = PatchEmbedding(img_size, patch_size, in_channels, embed_dim)\n",
    "        self.pos_embed = PositionalEncoding(embed_dim)\n",
    "        self.cls_token = nn.Parameter(torch.zeros(1, 1, embed_dim))\n",
    "        self.dropout = nn.Dropout(dropout)\n",
    "        self.transformer_layers = nn.ModuleList([\n",
    "            TransformerEncoderLayer(embed_dim, num_heads, hidden_dim, dropout) for _ in range(num_layers)\n",
    "        ])\n",
    "        self.norm = nn.LayerNorm(embed_dim)\n",
    "        self.fc = nn.Linear(embed_dim, num_classes)\n",
    "\n",
    "    def forward(self, x):\n",
    "        B = x.size(0)\n",
    "        x = self.patch_embed(x)\n",
    "        cls_tokens = self.cls_token.expand(B, -1, -1)\n",
    "        x = torch.cat((cls_tokens,x), dim=1)\n",
    "        x = self.pos_embed(x)\n",
    "        x = self.dropout(x)\n",
    "\n",
    "        for layer in self.transformer_layers:\n",
    "            x = layer(x)\n",
    "        \n",
    "        x = self.norm(x)\n",
    "        cls_token_final = x[:,0]\n",
    "        x = self.fc(cls_token_final)\n",
    "        return x\n",
    "\n",
    "        "
   ]
  },
  {
   "cell_type": "code",
   "execution_count": 113,
   "id": "646dac6f-631d-429e-9861-896f60950d7f",
   "metadata": {},
   "outputs": [
    {
     "name": "stdout",
     "output_type": "stream",
     "text": [
      "Files already downloaded and verified\n",
      "Files already downloaded and verified\n"
     ]
    }
   ],
   "source": [
    "## Prepare the CIFAR-10 dataset\n",
    "transform = transforms.Compose([\n",
    "    transforms.Resize((224, 224)),\n",
    "    transforms.ToTensor(),\n",
    "    transforms.Normalize((0.5, 0.5, 0.5), (0.5, 0.5, 0.5))\n",
    "])\n",
    "train_dataset = datasets.CIFAR10(root='./data', train=True, download=True, transform=transform)\n",
    "test_dataset = datasets.CIFAR10(root='./data', train=False, download=True, transform=transform)\n",
    "train_loader = DataLoader(train_dataset, batch_size=16, shuffle=True)\n",
    "test_loader = DataLoader(test_dataset, batch_size=16, shuffle=False)"
   ]
  },
  {
   "cell_type": "code",
   "execution_count": 114,
   "id": "f9e15dbb-34e5-4be3-9b73-7bb323fe2389",
   "metadata": {},
   "outputs": [],
   "source": [
    "device = 'cuda' if torch.cuda.is_available() else 'cpu'\n",
    "model = VisionTransformer().to(device)\n",
    "\n",
    "# Define loss function and optimizer\n",
    "criterion = nn.CrossEntropyLoss()\n",
    "optimizer = optim.Adam(model.parameters(), lr=0.001)\n",
    "\n",
    "## Train loop\n",
    "def train(model, train_loader, criterion, optimizer, device):\n",
    "    model.train()\n",
    "    running_loss = 0.0\n",
    "    itr = 0\n",
    "    for images, labels in train_loader:\n",
    "        images, labels = images.to(device), labels.to(device)\n",
    "\n",
    "        optimizer.zero_grad()\n",
    "        outputs = model(images)\n",
    "        loss = criterion(outputs, labels)\n",
    "        loss.backward()\n",
    "        optimizer.step()\n",
    "        running_loss+=loss.item()\n",
    "        itr+=1\n",
    "        if itr == 20:\n",
    "            break\n",
    "    return running_loss / len(train_loader)\n",
    "\n",
    "def test(model, test_loader, criterion, device):\n",
    "    model.eval()\n",
    "    running_loss = 0.0\n",
    "    correct = 0\n",
    "    itr = 0\n",
    "    with torch.no_grad():\n",
    "        for images, labels in test_loader:\n",
    "            images, labels = images.to(device), labels.to(device)\n",
    "            outputs = model(images)\n",
    "            loss = criterion(outputs, labels)\n",
    "            running_loss += loss.item()\n",
    "            _, preds = torch.max(outputs, 1)\n",
    "            correct += torch.sum(preds == labels.data)\n",
    "            itr+=1\n",
    "            if itr == 20:\n",
    "                break\n",
    "    return running_loss / len(test_loader), correct.double() / len(test_loader.dataset)"
   ]
  },
  {
   "cell_type": "code",
   "execution_count": null,
   "id": "b8b00947-257c-4e03-b1e0-429ce7bb8fc0",
   "metadata": {},
   "outputs": [
    {
     "name": "stdout",
     "output_type": "stream",
     "text": [
      "Epoch 1, Train Loss: 0.0244, Test Loss: 0.0833, Test Accuracy: 0.0039\n",
      "Epoch 2, Train Loss: 0.0156, Test Loss: 0.0767, Test Accuracy: 0.0040\n",
      "Epoch 3, Train Loss: 0.0155, Test Loss: 0.0754, Test Accuracy: 0.0035\n",
      "Epoch 4, Train Loss: 0.0151, Test Loss: 0.0761, Test Accuracy: 0.0026\n"
     ]
    }
   ],
   "source": [
    "for epoch in range(10):\n",
    "    train_loss = train(model, train_loader, criterion, optimizer, device)\n",
    "    test_loss, test_accuracy = test(model, test_loader, criterion, device)\n",
    "\n",
    "    print(f\"Epoch {epoch+1}, Train Loss: {train_loss:.4f}, Test Loss: {test_loss:.4f}, Test Accuracy: {test_accuracy:.4f}\")"
   ]
  },
  {
   "cell_type": "code",
   "execution_count": null,
   "id": "bc993f03-5ee0-486e-9613-9fb27b922a47",
   "metadata": {},
   "outputs": [],
   "source": []
  }
 ],
 "metadata": {
  "kernelspec": {
   "display_name": "Python 3 (ipykernel)",
   "language": "python",
   "name": "python3"
  },
  "language_info": {
   "codemirror_mode": {
    "name": "ipython",
    "version": 3
   },
   "file_extension": ".py",
   "mimetype": "text/x-python",
   "name": "python",
   "nbconvert_exporter": "python",
   "pygments_lexer": "ipython3",
   "version": "3.10.9"
  }
 },
 "nbformat": 4,
 "nbformat_minor": 5
}
