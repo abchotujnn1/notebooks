{
 "cells": [
  {
   "cell_type": "code",
   "execution_count": 28,
   "id": "de20e17f-8139-44ae-8e3c-45cdc38d194e",
   "metadata": {
    "tags": []
   },
   "outputs": [],
   "source": [
    "import numpy as np\n",
    "from sklearn.datasets import load_digits"
   ]
  },
  {
   "cell_type": "code",
   "execution_count": 29,
   "id": "c793c09f-68c2-4633-80ce-5dc07c303330",
   "metadata": {
    "tags": []
   },
   "outputs": [],
   "source": [
    "data, labels = load_digits(return_X_y=True)\n",
    "(n_samples, n_features), n_digits = data.shape, np.unique(labels).size"
   ]
  },
  {
   "cell_type": "code",
   "execution_count": 30,
   "id": "6e98b3a1-375c-431e-9705-81fdc73711db",
   "metadata": {
    "tags": []
   },
   "outputs": [
    {
     "name": "stdout",
     "output_type": "stream",
     "text": [
      "# digits: 10; # samples: 1797; # features: 64\n"
     ]
    }
   ],
   "source": [
    "print(f\"# digits: {n_digits}; # samples: {n_samples}; # features: {n_features}\")"
   ]
  },
  {
   "cell_type": "code",
   "execution_count": 31,
   "id": "40a96e94-17bc-4159-909b-4f1a8845352c",
   "metadata": {
    "tags": []
   },
   "outputs": [
    {
     "name": "stdout",
     "output_type": "stream",
     "text": [
      "(1797, 64)\n",
      "(1797,)\n",
      "1797\n",
      "64\n",
      "10\n"
     ]
    }
   ],
   "source": [
    "print(data.shape)\n",
    "print(labels.shape)\n",
    "print(n_samples)\n",
    "print(n_features)\n",
    "print(n_digits)"
   ]
  },
  {
   "cell_type": "code",
   "execution_count": 32,
   "id": "fa42fb1c-b080-44cb-a55a-238786891d45",
   "metadata": {
    "tags": []
   },
   "outputs": [],
   "source": [
    "from time import time\n",
    "\n",
    "from sklearn import metrics\n",
    "from sklearn.pipeline import make_pipeline\n",
    "from sklearn.preprocessing import StandardScaler"
   ]
  },
  {
   "cell_type": "code",
   "execution_count": 45,
   "id": "34b7eaa4-83ac-46ee-b67b-cf5281a54bcc",
   "metadata": {
    "tags": []
   },
   "outputs": [],
   "source": [
    "def bench_k_marks(kmeans, name, data, labels):\n",
    "    \"\"\"\n",
    "    Benchmark to evaluate the KMeans initializtion methods\n",
    "    \"\"\"\n",
    "    t0 = time()\n",
    "    estimator = make_pipeline(StandardScaler(), kmeans).fit(data)\n",
    "    fit_time = time() - t0\n",
    "    results = [name, fit_time, estimator[-1].inertia_]\n",
    "    \n",
    "    #Define the metrics which requires only the true labels and estimator labels\n",
    "    clustering_metrics = [\n",
    "    metrics.homogeneity_score,\n",
    "    metrics.completeness_score,\n",
    "    metrics.v_measure_score,\n",
    "    metrics.adjusted_rand_score,\n",
    "    metrics.adjusted_mutual_info_score]\n",
    "    \n",
    "    results+=[m(labels, estimator[-1].labels_) for m in clustering_metrics]\n",
    "    \n",
    "    # The silhoutte score requires full dataset.\n",
    "    results += [metrics.silhouette_score(data, \n",
    "                                         estimator[-1].labels_,\n",
    "                                        metric='euclidean',\n",
    "                                        sample_size=300,\n",
    "                                        )]\n",
    "    \n",
    "    # show the results\n",
    "    formatter_result = (\"{:9s}\\t{:.3f}s\\t{:.0f}\\t{:.3f}\\t{:.3f}\\t{:.3f}\\t{:.3f}\\t{:.3f}\\t{:.3f}\")\n",
    "    print(formatter_result.format(*results))"
   ]
  },
  {
   "cell_type": "code",
   "execution_count": 46,
   "id": "74f00d79-6f5c-4e59-8997-f81630680738",
   "metadata": {
    "tags": []
   },
   "outputs": [],
   "source": [
    "from sklearn.cluster import KMeans\n",
    "from sklearn.decomposition import PCA"
   ]
  },
  {
   "cell_type": "code",
   "execution_count": 50,
   "id": "e585a315-7064-4d31-9159-d89d24ea0785",
   "metadata": {
    "tags": []
   },
   "outputs": [
    {
     "name": "stdout",
     "output_type": "stream",
     "text": [
      "__________________________________________________________________________________\n",
      "init\t\ttime\tinertia\thomo\tcompl\tv-meas\tARI\tAMI\tsilhouette\n",
      "k-means++\t0.059s\t69662\t0.680\t0.719\t0.699\t0.570\t0.695\t0.173\n",
      "random   \t0.035s\t69707\t0.675\t0.716\t0.694\t0.560\t0.691\t0.183\n",
      "PCA-based\t0.013s\t72686\t0.636\t0.658\t0.647\t0.521\t0.643\t0.140\n"
     ]
    }
   ],
   "source": [
    "print(82 * \"_\")\n",
    "print(\"init\\t\\ttime\\tinertia\\thomo\\tcompl\\tv-meas\\tARI\\tAMI\\tsilhouette\")\n",
    "kmeans = KMeans(init=\"k-means++\", n_clusters=n_digits, n_init=4, random_state=0)\n",
    "bench_k_marks(kmeans=kmeans, name=\"k-means++\", data=data, labels=labels)\n",
    "\n",
    "kmeans = KMeans(init=\"random\", n_clusters=n_digits, n_init=4, random_state=0)\n",
    "bench_k_marks(kmeans=kmeans, name=\"random\", data=data, labels=labels)\n",
    "\n",
    "pca = PCA(n_components=n_digits).fit(data)\n",
    "kmeans = KMeans(init=pca.components_, n_clusters=n_digits, n_init=1)\n",
    "bench_k_marks(kmeans=kmeans, name=\"PCA-based\", data=data, labels=labels)"
   ]
  },
  {
   "cell_type": "code",
   "execution_count": 51,
   "id": "6258f980-5022-43e9-8430-0dcd859d8527",
   "metadata": {
    "tags": []
   },
   "outputs": [],
   "source": [
    "import matplotlib.pyplot as plt\n",
    "\n",
    "reduced_data = PCA(n_components=2).fit_transform(data)\n",
    "kmeans = KMeans(init=\"k-means++\", n_clusters=n_digits, n_init=4)\n",
    "kmeans.fit(reduced_data)\n",
    "\n",
    "#Step size of mes. Decrease to increase the quality of two VQ.\n",
    "h = 0.02 # point in the mesh [x_min, x_max] x [y_min, y_max].\n",
    "\n",
    "#Plot the decision boundary. For that, we willl assign a color to each.\n",
    "x_min, x_max = reduced_data[:, 0].min() - 1, reduced_data[:,0].max() + 1\n",
    "y_min, y_max = reduced_data[:, 1].min() - 1 , reduced_data[:, 1].max() + 1\n",
    "xx, yy = np.meshgrid(np.arange(x_min, x_max, h), np.arange(y_min, y_max, h))\n"
   ]
  },
  {
   "cell_type": "code",
   "execution_count": null,
   "id": "b087e327-67a8-4cf0-b623-69a571db8993",
   "metadata": {},
   "outputs": [],
   "source": []
  }
 ],
 "metadata": {
  "kernelspec": {
   "display_name": "Python 3 (ipykernel)",
   "language": "python",
   "name": "python3"
  },
  "language_info": {
   "codemirror_mode": {
    "name": "ipython",
    "version": 3
   },
   "file_extension": ".py",
   "mimetype": "text/x-python",
   "name": "python",
   "nbconvert_exporter": "python",
   "pygments_lexer": "ipython3",
   "version": "3.10.9"
  }
 },
 "nbformat": 4,
 "nbformat_minor": 5
}
