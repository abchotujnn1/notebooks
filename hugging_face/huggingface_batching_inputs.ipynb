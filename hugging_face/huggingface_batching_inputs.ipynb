{
 "cells": [
  {
   "cell_type": "markdown",
   "id": "3b8a91d4-78d4-412a-8231-ad11ba8e37c9",
   "metadata": {},
   "source": [
    "### How to batch input together\n",
    "* sentences we want to group inside a batch will often have different lengths"
   ]
  },
  {
   "cell_type": "code",
   "execution_count": 5,
   "id": "904c9389-8959-420d-a4e1-d335525bc622",
   "metadata": {},
   "outputs": [],
   "source": [
    "from transformers import AutoTokenizer\n",
    "import torch"
   ]
  },
  {
   "cell_type": "code",
   "execution_count": 7,
   "id": "ed550318-d594-4fb4-a3e0-fa562f6a2fbe",
   "metadata": {},
   "outputs": [
    {
     "name": "stdout",
     "output_type": "stream",
     "text": [
      "[1045, 1005, 2310, 2042, 3403, 2005, 1037, 17662, 12172, 2607, 2026, 2878, 2166, 1012]\n",
      "[1045, 5223, 2023, 1012]\n"
     ]
    }
   ],
   "source": [
    "checkpoint = \"distilbert-base-uncased-finetuned-sst-2-english\"\n",
    "tokenizer = AutoTokenizer.from_pretrained(checkpoint)\n",
    "sentences = [\"I've been waiting for a HuggingFace course my whole life.\",\n",
    "            \"I hate this.\"]\n",
    "tokens = [tokenizer.tokenize(sentence) for sentence in sentences]\n",
    "ids = [tokenizer.convert_tokens_to_ids(token) for token in tokens]\n",
    "print(ids[0])\n",
    "print(ids[1])\n",
    "# warning:  FutureWarning: `clean_up_tokenization_spaces` was not set. \n",
    "#It will be set to `True` by default. This behavior will be depracted in transformers v4.45, \n",
    "#and will be then set to `False` by default."
   ]
  },
  {
   "cell_type": "code",
   "execution_count": 8,
   "id": "4ff23dc8-82f1-40a8-8975-cfaf780dbaef",
   "metadata": {},
   "outputs": [
    {
     "ename": "ValueError",
     "evalue": "expected sequence of length 14 at dim 1 (got 4)",
     "output_type": "error",
     "traceback": [
      "\u001b[1;31m---------------------------------------------------------------------------\u001b[0m",
      "\u001b[1;31mValueError\u001b[0m                                Traceback (most recent call last)",
      "Cell \u001b[1;32mIn[8], line 1\u001b[0m\n\u001b[1;32m----> 1\u001b[0m input_ids \u001b[38;5;241m=\u001b[39m \u001b[43mtorch\u001b[49m\u001b[38;5;241;43m.\u001b[39;49m\u001b[43mtensor\u001b[49m\u001b[43m(\u001b[49m\u001b[43mids\u001b[49m\u001b[43m)\u001b[49m\n",
      "\u001b[1;31mValueError\u001b[0m: expected sequence of length 14 at dim 1 (got 4)"
     ]
    }
   ],
   "source": [
    "input_ids = torch.tensor(ids)\n",
    "# so we need to pad this "
   ]
  },
  {
   "cell_type": "code",
   "execution_count": 9,
   "id": "30a0cbe5-c245-4e49-8038-66bd3ef41fe5",
   "metadata": {},
   "outputs": [
    {
     "data": {
      "text/plain": [
       "0"
      ]
     },
     "execution_count": 9,
     "metadata": {},
     "output_type": "execute_result"
    }
   ],
   "source": [
    "from transformers import AutoTokenizer\n",
    "tokenizer = AutoTokenizer.from_pretrained(checkpoint)\n",
    "tokenizer.pad_token_id"
   ]
  },
  {
   "cell_type": "code",
   "execution_count": null,
   "id": "f7b3f8d9-f873-4c0c-b02a-cb14d7f5e540",
   "metadata": {},
   "outputs": [],
   "source": [
    "# But just padding "
   ]
  },
  {
   "cell_type": "code",
   "execution_count": 10,
   "id": "8003f6b3-8fba-40d7-ba28-8ea0debc66d1",
   "metadata": {},
   "outputs": [],
   "source": [
    "from transformers import AutoModelForSequenceClassification"
   ]
  },
  {
   "cell_type": "code",
   "execution_count": null,
   "id": "8d9bc159-9cbd-45a5-a403-6c67703a0134",
   "metadata": {},
   "outputs": [],
   "source": [
    "ids1 = torch.tensor([[1045, 1005, 2310, 2042, 3403, 2005, 1037, 17662, 12172, 2607, 2026, 2878, 2166, 1012]])"
   ]
  },
  {
   "cell_type": "code",
   "execution_count": null,
   "id": "dac007ef-4ed7-4c0d-8015-ab42c366e486",
   "metadata": {},
   "outputs": [],
   "source": [
    "ids2 = torch.tensor([[1045, 5223, 2023, 1012]])"
   ]
  },
  {
   "cell_type": "code",
   "execution_count": null,
   "id": "3cc3c1a0-f73d-4af9-932e-e0bd84290b4e",
   "metadata": {},
   "outputs": [],
   "source": [
    "all_ids = torch.tensor([[1045, 1005, 2310, 2042, 3403, 2005, 1037, 17662, 12172, 2607, 2026, 2878, 2166, 1012],\n",
    "                    [1045, 5223, 2023, 1012, 0,0,0,0,0,0,0,0,0,0]])"
   ]
  },
  {
   "cell_type": "code",
   "execution_count": null,
   "id": "ea5143eb-0189-456d-a2a4-1b49600f5fa8",
   "metadata": {},
   "outputs": [],
   "source": [
    "model = AutoModelForSequenceClassification.from_pretrained(checkpoint)"
   ]
  },
  {
   "cell_type": "code",
   "execution_count": null,
   "id": "7fdd1025-d6e4-4054-897e-782ee7634021",
   "metadata": {},
   "outputs": [],
   "source": [
    "print(model(ids1))\n",
    "print(model(ids2))\n",
    "print(model(all_ids))"
   ]
  },
  {
   "cell_type": "code",
   "execution_count": null,
   "id": "39f36cbd-311e-4a04-8489-a4d3cbe0dbda",
   "metadata": {},
   "outputs": [],
   "source": []
  }
 ],
 "metadata": {
  "kernelspec": {
   "display_name": "Python 3 (ipykernel)",
   "language": "python",
   "name": "python3"
  },
  "language_info": {
   "codemirror_mode": {
    "name": "ipython",
    "version": 3
   },
   "file_extension": ".py",
   "mimetype": "text/x-python",
   "name": "python",
   "nbconvert_exporter": "python",
   "pygments_lexer": "ipython3",
   "version": "3.10.9"
  }
 },
 "nbformat": 4,
 "nbformat_minor": 5
}
n3"
  },
  "language_info": {
   "codemirror_mode": {
    "name": "ipython",
    "version": 3
   },
   "file_extension": ".py",
   "mimetype": "text/x-python",
   "name": "python",
   "nbconvert_exporter": "python",
   "pygments_lexer": "ipython3",
   "version": "3.10.9"
  }
 },
 "nbformat": 4,
 "nbformat_minor": 5
}
